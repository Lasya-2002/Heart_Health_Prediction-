{
 "cells": [
  {
   "cell_type": "markdown",
   "id": "2c1e3017-98a4-42da-a799-b660ba4ee851",
   "metadata": {},
   "source": [
    "Importing the necessary libraries"
   ]
  },
  {
   "cell_type": "code",
   "execution_count": 3,
   "id": "10e58020-fa3d-41b1-8545-f64d2471dc1a",
   "metadata": {},
   "outputs": [],
   "source": [
    "import numpy as np\n",
    "import pandas as pd\n",
    "import matplotlib.pyplot as plt\n",
    "import seaborn as sns\n",
    "import warnings as wr\n",
    "wr.filterwarnings('ignore')"
   ]
  },
  {
   "cell_type": "markdown",
   "id": "db7ebe0a-1d51-4f7d-98cc-6992cf0efd3c",
   "metadata": {},
   "source": [
    "Import the dataset"
   ]
  },
  {
   "cell_type": "code",
   "execution_count": 5,
   "id": "8f0352f5-13e9-4fbf-a8d3-6348d666291f",
   "metadata": {},
   "outputs": [
    {
     "ename": "FileNotFoundError",
     "evalue": "[Errno 2] No such file or directory: 'heart.csv'",
     "output_type": "error",
     "traceback": [
      "Traceback \u001b[1;36m(most recent call last)\u001b[0m:\n",
      "\u001b[0m  Cell \u001b[0;32mIn[5], line 1\u001b[0m\n    df=pd.read_csv('heart.csv')\u001b[0m\n",
      "\u001b[0m  File \u001b[0;32m~\\anaconda3\\envs\\myEnv\\lib\\site-packages\\pandas\\io\\parsers\\readers.py:1026\u001b[0m in \u001b[0;35mread_csv\u001b[0m\n    return _read(filepath_or_buffer, kwds)\u001b[0m\n",
      "\u001b[0m  File \u001b[0;32m~\\anaconda3\\envs\\myEnv\\lib\\site-packages\\pandas\\io\\parsers\\readers.py:620\u001b[0m in \u001b[0;35m_read\u001b[0m\n    parser = TextFileReader(filepath_or_buffer, **kwds)\u001b[0m\n",
      "\u001b[0m  File \u001b[0;32m~\\anaconda3\\envs\\myEnv\\lib\\site-packages\\pandas\\io\\parsers\\readers.py:1620\u001b[0m in \u001b[0;35m__init__\u001b[0m\n    self._engine = self._make_engine(f, self.engine)\u001b[0m\n",
      "\u001b[0m  File \u001b[0;32m~\\anaconda3\\envs\\myEnv\\lib\\site-packages\\pandas\\io\\parsers\\readers.py:1880\u001b[0m in \u001b[0;35m_make_engine\u001b[0m\n    self.handles = get_handle(\u001b[0m\n",
      "\u001b[1;36m  File \u001b[1;32m~\\anaconda3\\envs\\myEnv\\lib\\site-packages\\pandas\\io\\common.py:873\u001b[1;36m in \u001b[1;35mget_handle\u001b[1;36m\n\u001b[1;33m    handle = open(\u001b[1;36m\n",
      "\u001b[1;31mFileNotFoundError\u001b[0m\u001b[1;31m:\u001b[0m [Errno 2] No such file or directory: 'heart.csv'\n"
     ]
    }
   ],
   "source": [
    "df=pd.read_csv('heart.csv')\n",
    "df.head()"
   ]
  },
  {
   "cell_type": "markdown",
   "id": "ccea11dc-604d-4849-8bf2-59e2c02a43fb",
   "metadata": {},
   "source": [
    "Understanding and displaying the data"
   ]
  },
  {
   "cell_type": "markdown",
   "id": "662c240d-7d6c-44d2-b6db-a5535f675d1d",
   "metadata": {},
   "source": [
    "Label encoding is performed on the feature 'SEX'"
   ]
  },
  {
   "cell_type": "code",
   "execution_count": null,
   "id": "875f7fd7-79e7-4eb6-96f4-e3b395972768",
   "metadata": {},
   "outputs": [],
   "source": [
    "from sklearn.preprocessing import LabelEncoder\n",
    "le = LabelEncoder()\n",
    "df['sex'] = le.fit_transform(df['sex'])\n",
    "df = df[df['sex'] != 0]\n",
    "df = df.reset_index(drop=True)"
   ]
  },
  {
   "cell_type": "code",
   "execution_count": null,
   "id": "44fa9ae9-d275-438d-af02-c1f8903d0bbe",
   "metadata": {},
   "outputs": [],
   "source": [
    "print('The information about the dataset is : \\n',df.info(),'\\n')\n",
    "print('The uniqueness of the dataset is : \\n',df.nunique(),'\\n')\n",
    "print('Checking if the datatype is numeric or object type, true when object : \\n',df.dtypes=='object','\\n')\n",
    "print('Checking for the missing values : \\n',df.isnull().sum(),'\\n')\n",
    "print('The basic statistics of the data, that is data description : \\n',df.describe(),'\\n')"
   ]
  },
  {
   "cell_type": "markdown",
   "id": "08a688dd-c38a-4fd3-a23f-d76d6bdefba6",
   "metadata": {},
   "source": [
    "Exploratory Data Analysis\n",
    "Includes univariate, bivariate and multivariate analysis as part of data preprocessing"
   ]
  },
  {
   "cell_type": "markdown",
   "id": "58baf1b7-b064-4209-9914-64235203e38c",
   "metadata": {},
   "source": [
    "Univariate Analysis \n",
    "Univariate analysis is being done using box plot to detect the outliers"
   ]
  },
  {
   "cell_type": "code",
   "execution_count": null,
   "id": "093c8197-255b-4ce9-80da-6307dc500a5c",
   "metadata": {},
   "outputs": [],
   "source": [
    "plt.figure(figsize=(20,20))\n",
    "sns.set_style('darkgrid')\n",
    "sns.set_palette('pastel')\n",
    "sns.boxplot(data=df,orient='h',width=0.5)"
   ]
  },
  {
   "cell_type": "markdown",
   "id": "6b83280b-d2f5-41df-b41e-fe16baa6f762",
   "metadata": {},
   "source": [
    "Count plot to check the class balance in the target feature"
   ]
  },
  {
   "cell_type": "code",
   "execution_count": null,
   "id": "b9f766d2-fba8-4bbb-9a35-50f76d92c8bc",
   "metadata": {},
   "outputs": [],
   "source": [
    "plt.figure(figsize=(10,8))\n",
    "sns.countplot(x='target',data=df)\n",
    "plt.xlabel('count')\n",
    "plt.ylabel('target')\n",
    "plt.show()"
   ]
  },
  {
   "cell_type": "markdown",
   "id": "0e038f70-ec33-44b6-8f88-e140f83b0842",
   "metadata": {},
   "source": [
    "Kernel Density plots for skewness and the data distribution"
   ]
  },
  {
   "cell_type": "code",
   "execution_count": null,
   "id": "f13b19b7-4d5f-4ea0-b7a5-dbbc1a9a8ec4",
   "metadata": {},
   "outputs": [],
   "source": [
    "sns.set_style('darkgrid')\n",
    "numerical_columns=df.select_dtypes(include=['int64','float64']).columns\n",
    "plt.figure(figsize=(14,len(numerical_columns)*3))\n",
    "for idx, feature in enumerate(numerical_columns,1):\n",
    "    plt.subplot(len(numerical_columns),2,idx)\n",
    "    sns.histplot(df[feature],kde=True)\n",
    "    plt.title(f\"{feature}| skewness:{round(df[feature].skew(),2)}\")\n",
    "\n",
    "plt.tight_layout()\n",
    "plt.show()"
   ]
  },
  {
   "cell_type": "markdown",
   "id": "4657ef82-6646-4a88-80a5-85ba6f014553",
   "metadata": {},
   "source": [
    "Bivariate analysis is being performed using pairplots"
   ]
  },
  {
   "cell_type": "code",
   "execution_count": null,
   "id": "8cf117a6-771c-4148-a959-8df472700b2f",
   "metadata": {},
   "outputs": [],
   "source": [
    "sns.set_palette('pastel')\n",
    "sns.pairplot(df,hue='target')\n",
    "plt.title('Pair Plot Of dataframe')\n",
    "plt.show()"
   ]
  },
  {
   "cell_type": "markdown",
   "id": "366614d8-2e1f-4c49-8f9b-e65863d6735b",
   "metadata": {},
   "source": [
    "Multivariate analysis using coreelation matrix as heatmap"
   ]
  },
  {
   "cell_type": "code",
   "execution_count": null,
   "id": "ccd2b68a-9aff-4425-b705-eb90a05c7cdf",
   "metadata": {},
   "outputs": [],
   "source": [
    "plt.figure(figsize=(10,8))\n",
    "matrix=df.corr()\n",
    "sns.heatmap(matrix,annot=True,cmap='Pastel2',fmt='.2f',annot_kws={'size':10})\n",
    "plt.title('Correlation matrix')\n",
    "plt.show()"
   ]
  },
  {
   "cell_type": "markdown",
   "id": "9204e84d-3b66-4197-bceb-80d64041943e",
   "metadata": {},
   "source": [
    "Splitting the data and extracting the target features"
   ]
  },
  {
   "cell_type": "markdown",
   "id": "032a39ca-3b90-4212-bf52-eb291ab00c7c",
   "metadata": {},
   "source": [
    "Feature Scaling"
   ]
  },
  {
   "cell_type": "code",
   "execution_count": null,
   "id": "ff70d2d6-be61-408a-a1dc-d5f186b54065",
   "metadata": {},
   "outputs": [],
   "source": [
    "from sklearn.preprocessing import MinMaxScaler\n",
    "sc=MinMaxScaler()\n",
    "scaled=sc.fit_transform(df)\n",
    "df_scaled=pd.DataFrame(scaled)"
   ]
  },
  {
   "cell_type": "code",
   "execution_count": null,
   "id": "235535ec-bad1-4bba-adcd-33e5356d8c92",
   "metadata": {},
   "outputs": [],
   "source": [
    "x=df_scaled.iloc[:,:-1]\n",
    "y=df_scaled.iloc[:,-1]"
   ]
  },
  {
   "cell_type": "markdown",
   "id": "a262b12d-e43c-4f1a-9adc-ec51d87ca50b",
   "metadata": {},
   "source": [
    "Feature Transformation"
   ]
  },
  {
   "cell_type": "code",
   "execution_count": null,
   "id": "a43d30fb-c6ac-492e-bb3c-0664c29acd8c",
   "metadata": {},
   "outputs": [],
   "source": [
    "from sklearn.decomposition import PCA\n",
    "nums = np.arange(12)\n",
    "var_ratio = []\n",
    "for num in nums:\n",
    "  pca = PCA(n_components=num)\n",
    "  pca.fit(x)\n",
    "  var_ratio.append(np.sum(pca.explained_variance_ratio_))\n",
    "\n",
    "plt.figure(figsize=(4,2),dpi=150)\n",
    "plt.grid()\n",
    "plt.plot(nums,var_ratio,marker='o')\n",
    "plt.xlabel('n_components')\n",
    "plt.ylabel('Explained variance ratio')\n",
    "plt.title('n_components vs. Explained Variance Ratio')\n",
    "plt.show()"
   ]
  },
  {
   "cell_type": "code",
   "execution_count": null,
   "id": "e650f1df-ec40-4860-968f-7ce86384276e",
   "metadata": {},
   "outputs": [],
   "source": [
    "PC_values = np.arange(pca.n_components_) + 1\n",
    "plt.grid()\n",
    "plt.plot(PC_values, pca.explained_variance_ratio_, 'o-', linewidth=2, color='blue')\n",
    "plt.title('Scree Plot')\n",
    "plt.xlabel('Principal Component')\n",
    "plt.ylabel('Variance Explained')\n",
    "plt.show()"
   ]
  },
  {
   "cell_type": "markdown",
   "id": "fa798dae-f28c-4c33-bbfd-6d90d798961b",
   "metadata": {},
   "source": [
    "The optimal number of principal components will be 8 or 9."
   ]
  },
  {
   "cell_type": "code",
   "execution_count": null,
   "id": "63d70ff0-90e5-4890-bc45-f81ee120ad60",
   "metadata": {},
   "outputs": [],
   "source": [
    "pca=PCA(n_components=8)\n",
    "x_pca=pca.fit_transform(x)\n",
    "print(sum(pca.explained_variance_ratio_))"
   ]
  },
  {
   "cell_type": "markdown",
   "id": "37a6942e-363f-44bc-8853-8b282d0f37ca",
   "metadata": {},
   "source": [
    "Splitting the data into training and testing data"
   ]
  },
  {
   "cell_type": "code",
   "execution_count": null,
   "id": "f7453312-32a1-4d3b-899a-87c5562989dd",
   "metadata": {},
   "outputs": [],
   "source": [
    "from sklearn.model_selection import train_test_split\n",
    "x_train_pca,x_test_pca,y_train_pca,y_test_pca=train_test_split(x_pca,y,test_size=0.30,random_state=10)"
   ]
  },
  {
   "cell_type": "code",
   "execution_count": null,
   "id": "1010c774-84cb-4d56-aedc-f773fa65f6ee",
   "metadata": {},
   "outputs": [],
   "source": [
    "x_train,x_test,y_train,y_test=train_test_split(x,y,test_size=0.30,random_state=10,stratify=y) #stratified random sampling is done\n",
    "print(x_train.head())"
   ]
  },
  {
   "cell_type": "markdown",
   "id": "2c4f17db-1cf3-4b4d-9b9b-516a2cddc23c",
   "metadata": {},
   "source": [
    "Model selection and fitting the model"
   ]
  },
  {
   "cell_type": "code",
   "execution_count": null,
   "id": "f6178a70-8a01-46f3-b082-db7da1141553",
   "metadata": {},
   "outputs": [],
   "source": [
    "from sklearn.tree import DecisionTreeClassifier\n",
    "from sklearn.svm import SVC\n",
    "from sklearn.ensemble import RandomForestClassifier\n",
    "from sklearn.linear_model import LogisticRegression\n",
    "from sklearn.ensemble import AdaBoostClassifier\n",
    "from sklearn.ensemble import HistGradientBoostingClassifier\n",
    "from sklearn.metrics import confusion_matrix,classification_report,accuracy_score"
   ]
  },
  {
   "cell_type": "markdown",
   "id": "45afd554-25b9-4564-8720-9d0ea9673086",
   "metadata": {},
   "source": [
    "Decision Tree Classifier"
   ]
  },
  {
   "cell_type": "code",
   "execution_count": null,
   "id": "a05a07f0-f143-4d6c-aad0-1ecc69a66806",
   "metadata": {},
   "outputs": [],
   "source": [
    "dt=DecisionTreeClassifier(criterion='gini',random_state=42)\n",
    "model1=dt.fit(x_train,y_train)\n",
    "y_pred1_tr=model1.predict(x_train)\n",
    "acc1_tr=accuracy_score(y_train,y_pred1_tr)*100\n",
    "print(acc1_tr)\n",
    "y_pred1=model1.predict(x_test)\n",
    "acc1=accuracy_score(y_test,y_pred1)*100\n",
    "print(acc1)"
   ]
  },
  {
   "cell_type": "code",
   "execution_count": null,
   "id": "d5578b25-85fa-4cd8-b728-21807e75b13c",
   "metadata": {},
   "outputs": [],
   "source": [
    "#Visualizing the Decision Tree\n",
    "from sklearn import tree\n",
    "tree.plot_tree(dt,rounded=True,max_depth=5,filled=True)\n",
    "plt.show()"
   ]
  },
  {
   "cell_type": "code",
   "execution_count": null,
   "id": "9fa73d75-6a16-4655-9924-8c3782a03e82",
   "metadata": {},
   "outputs": [],
   "source": [
    "cm1=confusion_matrix(y_test,y_pred1)\n",
    "print(cm1)"
   ]
  },
  {
   "cell_type": "code",
   "execution_count": null,
   "id": "23cc28dd-615d-4833-8e45-2ca1eeff8cc7",
   "metadata": {},
   "outputs": [],
   "source": [
    "rep1=classification_report(y_test,y_pred1)\n",
    "print(rep1)"
   ]
  },
  {
   "cell_type": "code",
   "execution_count": null,
   "id": "243a1be9-f56f-4f25-a922-5f39f1e24bb5",
   "metadata": {},
   "outputs": [],
   "source": [
    "svm=SVC(kernel='rbf',C=1.0,gamma=0.5)\n",
    "model2=svm.fit(x_train,y_train)\n",
    "y_pred2_tr=model2.predict(x_train)\n",
    "acc2_tr=accuracy_score(y_train,y_pred2_tr)*100\n",
    "print(acc2_tr)\n",
    "y_pred2=model2.predict(x_test)\n",
    "acc2=accuracy_score(y_test,y_pred2)*100\n",
    "print(acc2)"
   ]
  },
  {
   "cell_type": "code",
   "execution_count": null,
   "id": "e953c1f3-a9f9-4d29-88d4-b93781d807bc",
   "metadata": {},
   "outputs": [],
   "source": [
    "cm2=confusion_matrix(y_test,y_pred2)\n",
    "print(cm2)"
   ]
  },
  {
   "cell_type": "code",
   "execution_count": null,
   "id": "348abc15-b574-4093-8b9e-2cea3555156e",
   "metadata": {},
   "outputs": [],
   "source": [
    "rep3=classification_report(y_test,y_pred2)\n",
    "print(rep3)"
   ]
  },
  {
   "cell_type": "code",
   "execution_count": null,
   "id": "26de3372-1c4d-48bc-92ca-f7feef5d2d98",
   "metadata": {},
   "outputs": [],
   "source": [
    "rf=RandomForestClassifier(n_estimators=100)\n",
    "model3=rf.fit(x_train,y_train)\n",
    "y_pred3_tr=model3.predict(x_train)\n",
    "acc3_tr=accuracy_score(y_train,y_pred3_tr)*100\n",
    "print(acc3_tr)\n",
    "y_pred3=model3.predict(x_test)\n",
    "acc3=accuracy_score(y_test,y_pred3)*100\n",
    "print(acc3)"
   ]
  },
  {
   "cell_type": "code",
   "execution_count": null,
   "id": "02be118b-1ed3-43ab-bd6e-829622f54144",
   "metadata": {},
   "outputs": [],
   "source": [
    "cm3=confusion_matrix(y_test,y_pred3)\n",
    "print(cm3)"
   ]
  },
  {
   "cell_type": "code",
   "execution_count": null,
   "id": "a7e57930-1067-4543-bdfb-7d068b151875",
   "metadata": {},
   "outputs": [],
   "source": [
    "rep3=classification_report(y_test,y_pred3)\n",
    "print(rep3)"
   ]
  },
  {
   "cell_type": "code",
   "execution_count": null,
   "id": "079519b9-2608-4541-b2ac-81923cb5c0ec",
   "metadata": {},
   "outputs": [],
   "source": [
    "logr=LogisticRegression(penalty='l2',C=1.0)\n",
    "model4=logr.fit(x_train,y_train)\n",
    "y_pred4_tr=model4.predict(x_train)\n",
    "acc4_tr=accuracy_score(y_train,y_pred4_tr)*100\n",
    "print(acc4_tr)\n",
    "y_pred4=model4.predict(x_test)\n",
    "acc4=accuracy_score(y_test,y_pred4)*100\n",
    "print(acc4)"
   ]
  },
  {
   "cell_type": "code",
   "execution_count": null,
   "id": "edfa29a4-2430-41c1-8a37-f32023c63832",
   "metadata": {},
   "outputs": [],
   "source": [
    "cm4=confusion_matrix(y_test,y_pred4)\n",
    "print(cm4)"
   ]
  },
  {
   "cell_type": "code",
   "execution_count": null,
   "id": "97b78bd7-bfba-4f01-bb9f-c77b159b8ac4",
   "metadata": {},
   "outputs": [],
   "source": [
    "rep4=classification_report(y_test,y_pred4)\n",
    "print(rep4)"
   ]
  },
  {
   "cell_type": "code",
   "execution_count": null,
   "id": "829a4a91-6c9d-404c-8c13-2d3a6356ae27",
   "metadata": {},
   "outputs": [],
   "source": [
    "adb=AdaBoostClassifier(n_estimators=100,learning_rate=1)\n",
    "model5=adb.fit(x_train,y_train)\n",
    "y_pred5_tr=model1.predict(x_train)\n",
    "acc5_tr=accuracy_score(y_train,y_pred5_tr)*100\n",
    "print(acc5_tr)\n",
    "y_pred5=model5.predict(x_test)\n",
    "acc5=accuracy_score(y_test,y_pred5)*100\n",
    "print(acc5)"
   ]
  },
  {
   "cell_type": "code",
   "execution_count": null,
   "id": "1e358b80-f025-44ed-9e80-6f2eb81995ae",
   "metadata": {},
   "outputs": [],
   "source": [
    "cm5=confusion_matrix(y_test,y_pred5)\n",
    "print(cm5)"
   ]
  },
  {
   "cell_type": "code",
   "execution_count": null,
   "id": "6d2448c3-e917-46d6-9b48-58af0535e231",
   "metadata": {},
   "outputs": [],
   "source": [
    "rep5=classification_report(y_test,y_pred5)\n",
    "print(rep5)"
   ]
  },
  {
   "cell_type": "code",
   "execution_count": null,
   "id": "e23ec119-0338-402e-8dfb-bc55972a7b3e",
   "metadata": {},
   "outputs": [],
   "source": [
    "hgb=HistGradientBoostingClassifier(learning_rate=0.1)\n",
    "model6=hgb.fit(x_train,y_train)\n",
    "y_pred6_tr=model6.predict(x_train)\n",
    "acc6_tr=accuracy_score(y_train,y_pred6_tr)*100\n",
    "print(acc6_tr)\n",
    "y_pred6=model6.predict(x_test)\n",
    "acc6=accuracy_score(y_test,y_pred6)*100\n",
    "print(acc6)"
   ]
  },
  {
   "cell_type": "code",
   "execution_count": null,
   "id": "aaff9c4e-6b05-44ea-a528-4d1ed528872b",
   "metadata": {},
   "outputs": [],
   "source": [
    "cm6=confusion_matrix(y_test,y_pred6)\n",
    "print(cm6)"
   ]
  },
  {
   "cell_type": "code",
   "execution_count": null,
   "id": "7c74617c-72a1-4a73-ab07-1c97923223f9",
   "metadata": {},
   "outputs": [],
   "source": [
    "rep6=classification_report(y_test,y_pred6)\n",
    "print(rep6)"
   ]
  },
  {
   "cell_type": "code",
   "execution_count": null,
   "id": "6a3413bc-50bb-4bbd-9f6f-ccf1e535d8b5",
   "metadata": {},
   "outputs": [],
   "source": [
    "dt_pca=DecisionTreeClassifier(criterion='gini',random_state=42)\n",
    "model1_pca=dt_pca.fit(x_train_pca,y_train_pca)\n",
    "y_pred1_tr_pca=model1_pca.predict(x_train_pca)\n",
    "acc1_tr_pca=accuracy_score(y_train,y_pred1_tr_pca)*100\n",
    "print(acc1_tr_pca)\n",
    "y_pred1_pca=model1_pca.predict(x_test_pca)\n",
    "acc1_pca=accuracy_score(y_test_pca,y_pred1_pca)*100\n",
    "print(acc1_pca)"
   ]
  },
  {
   "cell_type": "code",
   "execution_count": null,
   "id": "e79a4573-38fc-479d-a3e4-daa3695efc35",
   "metadata": {},
   "outputs": [],
   "source": [
    "#Visualizing the Decision Tree\n",
    "from sklearn import tree\n",
    "tree.plot_tree(dt_pca,rounded=True,max_depth=5,filled=True)\n",
    "plt.show()"
   ]
  },
  {
   "cell_type": "code",
   "execution_count": null,
   "id": "b9b28a4c-b300-4775-99cf-bbfe2077c633",
   "metadata": {},
   "outputs": [],
   "source": [
    "cm1_pca=confusion_matrix(y_test_pca,y_pred1_pca)\n",
    "print(cm1_pca)"
   ]
  },
  {
   "cell_type": "code",
   "execution_count": null,
   "id": "2397a116-ab12-4f25-a3a4-8fab5fc44557",
   "metadata": {},
   "outputs": [],
   "source": [
    "rep1_pca=classification_report(y_test_pca,y_pred1_pca)\n",
    "print(rep1_pca)"
   ]
  },
  {
   "cell_type": "code",
   "execution_count": null,
   "id": "1ec6b26b-d65d-4b2e-b84b-fa97447acc67",
   "metadata": {},
   "outputs": [],
   "source": [
    "svm_pca=SVC(kernel='rbf',C=1.0,gamma=0.5)\n",
    "model2_pca=svm_pca.fit(x_train_pca,y_train_pca)\n",
    "y_pred2_tr_pca=model2_pca.predict(x_train_pca)\n",
    "acc2_tr_pca=accuracy_score(y_train_pca,y_pred2_tr_pca)*100\n",
    "print(acc2_tr_pca)\n",
    "y_pred2_pca=model2_pca.predict(x_test_pca)\n",
    "acc2_pca=accuracy_score(y_test_pca,y_pred2_pca)*100\n",
    "print(acc2_pca)"
   ]
  },
  {
   "cell_type": "code",
   "execution_count": null,
   "id": "4adf1656-9fa2-43f4-8acf-aa9784e00c51",
   "metadata": {},
   "outputs": [],
   "source": [
    "cm2_pca=confusion_matrix(y_test_pca,y_pred2_pca)\n",
    "print(cm2_pca)"
   ]
  },
  {
   "cell_type": "code",
   "execution_count": null,
   "id": "9e54912a-df27-4614-9ca3-38826c7b3387",
   "metadata": {},
   "outputs": [],
   "source": [
    "rep2_pca=classification_report(y_test_pca,y_pred2_pca)\n",
    "print(rep2_pca)"
   ]
  },
  {
   "cell_type": "code",
   "execution_count": null,
   "id": "296e0a25-e0bc-40d4-9b9c-2bb053692966",
   "metadata": {},
   "outputs": [],
   "source": [
    "rf_pca=RandomForestClassifier(n_estimators=100)\n",
    "model3_pca=rf_pca.fit(x_train_pca,y_train_pca)\n",
    "y_pred3_tr_pca=model3_pca.predict(x_train_pca)\n",
    "acc3_tr_pca=accuracy_score(y_train_pca,y_pred3_tr_pca)*100\n",
    "print(acc3_tr_pca)\n",
    "y_pred3_pca=model3_pca.predict(x_test_pca)\n",
    "acc3_pca=accuracy_score(y_test_pca,y_pred3_pca)*100\n",
    "print(acc3_pca)"
   ]
  },
  {
   "cell_type": "code",
   "execution_count": null,
   "id": "bdea2caa-e109-4266-95e8-c4ec1ed0afb3",
   "metadata": {},
   "outputs": [],
   "source": [
    "cm3_pca=confusion_matrix(y_test_pca,y_pred3_pca)\n",
    "print(cm3_pca)"
   ]
  },
  {
   "cell_type": "code",
   "execution_count": null,
   "id": "e8689938-65d9-4714-a685-702378b7dad3",
   "metadata": {},
   "outputs": [],
   "source": [
    "rep3_pca=classification_report(y_test_pca,y_pred3_pca)\n",
    "print(rep3_pca)"
   ]
  },
  {
   "cell_type": "code",
   "execution_count": null,
   "id": "ca13e3ee-a59d-483b-a17f-9faa19fbd253",
   "metadata": {},
   "outputs": [],
   "source": [
    "logr_pca=LogisticRegression(penalty='l2',C=1.0)\n",
    "model4_pca=logr_pca.fit(x_train_pca,y_train_pca)\n",
    "y_pred4_tr_pca=model4_pca.predict(x_train_pca)\n",
    "acc4_tr_pca=accuracy_score(y_train_pca,y_pred4_tr_pca)*100\n",
    "print(acc4_tr_pca)\n",
    "y_pred4_pca=model4_pca.predict(x_test_pca)\n",
    "acc4_pca=accuracy_score(y_test_pca,y_pred4_pca)*100\n",
    "print(acc4_pca)"
   ]
  },
  {
   "cell_type": "code",
   "execution_count": null,
   "id": "33c92fe0-2709-4ead-a96a-5fc96ec4fe71",
   "metadata": {},
   "outputs": [],
   "source": [
    "cm4_pca=confusion_matrix(y_test_pca,y_pred4_pca)\n",
    "print(cm4_pca)"
   ]
  },
  {
   "cell_type": "code",
   "execution_count": null,
   "id": "e2006762-4881-4ff0-a55e-e9559e873cfb",
   "metadata": {},
   "outputs": [],
   "source": [
    "rep4_pca=classification_report(y_test_pca,y_pred4_pca)\n",
    "print(rep4_pca)"
   ]
  },
  {
   "cell_type": "code",
   "execution_count": null,
   "id": "b6d63fff-6a1c-4b7e-a87e-dca5637d3100",
   "metadata": {},
   "outputs": [],
   "source": [
    "adb_pca=AdaBoostClassifier(n_estimators=100,learning_rate=1)\n",
    "model5_pca=adb_pca.fit(x_train_pca,y_train_pca)\n",
    "y_pred5_tr_pca=model5_pca.predict(x_train_pca)\n",
    "acc5_tr_pca=accuracy_score(y_train_pca,y_pred5_tr_pca)*100\n",
    "print(acc5_tr_pca)\n",
    "y_pred5_pca=model5_pca.predict(x_test_pca)\n",
    "acc5_pca=accuracy_score(y_test_pca,y_pred5_pca)*100\n",
    "print(acc5_pca)"
   ]
  },
  {
   "cell_type": "code",
   "execution_count": null,
   "id": "9be0c3a2-0ec2-4657-931c-9ed4c42afef1",
   "metadata": {},
   "outputs": [],
   "source": [
    "cm5_pca=confusion_matrix(y_test_pca,y_pred5_pca)\n",
    "print(cm5_pca)"
   ]
  },
  {
   "cell_type": "code",
   "execution_count": null,
   "id": "3d1ecf25-36e4-4c53-b0d0-2068b7a451dc",
   "metadata": {},
   "outputs": [],
   "source": [
    "rep5_pca=classification_report(y_test_pca,y_pred5_pca)\n",
    "print(rep5_pca)"
   ]
  },
  {
   "cell_type": "code",
   "execution_count": null,
   "id": "f4af7ec1-bd05-46fc-bfe2-833bb0e981be",
   "metadata": {},
   "outputs": [],
   "source": [
    "hgb_pca=HistGradientBoostingClassifier(learning_rate=0.1)\n",
    "model6_pca=hgb_pca.fit(x_train_pca,y_train_pca)\n",
    "y_pred6_tr_pca=model6_pca.predict(x_train_pca)\n",
    "acc6_tr_pca=accuracy_score(y_train_pca,y_pred6_tr_pca)*100\n",
    "print(acc6_tr_pca)\n",
    "y_pred6_pca=model6_pca.predict(x_test_pca)\n",
    "acc6_pca=accuracy_score(y_test_pca,y_pred6_pca)*100\n",
    "print(acc6_pca)"
   ]
  },
  {
   "cell_type": "code",
   "execution_count": null,
   "id": "6f06e90f-2cd7-4240-aeba-a4ee0c86c45e",
   "metadata": {},
   "outputs": [],
   "source": [
    "cm6_pca=confusion_matrix(y_test_pca,y_pred6_pca)\n",
    "print(cm6_pca)"
   ]
  },
  {
   "cell_type": "code",
   "execution_count": null,
   "id": "774874fc-6104-4602-9e54-307bd81b62d3",
   "metadata": {},
   "outputs": [],
   "source": [
    "rep6_pca=classification_report(y_test_pca,y_pred6_pca)\n",
    "print(rep6_pca)"
   ]
  },
  {
   "cell_type": "markdown",
   "id": "72949fb9-b682-4fe5-82d2-7b32c797f1d0",
   "metadata": {},
   "source": [
    "Feature importance based on mean decrease in impurity in Random Forest"
   ]
  },
  {
   "cell_type": "code",
   "execution_count": null,
   "id": "abd906ab-3c78-43b2-b30d-aacbfe0dab65",
   "metadata": {},
   "outputs": [],
   "source": [
    "features=list(df.columns)\n",
    "feature_names = [f\"feature {i}\" for i in range(x.shape[1])]\n",
    "import time\n",
    "start_time=time.time()\n",
    "importances=rf.feature_importances_\n",
    "std=np.std([tree.feature_importances_ for tree in rf.estimators_],axis=0)\n",
    "elasped_time=time.time()-start_time\n",
    "print(f'Elasped time to compute the importances : {elasped_time: .3f} seconds')"
   ]
  },
  {
   "cell_type": "code",
   "execution_count": null,
   "id": "5c2a3688-fb86-45e8-b26b-345da446b4da",
   "metadata": {},
   "outputs": [],
   "source": [
    "forest_importances=pd.Series(importances,index=feature_names)\n",
    "fig,ax=plt.subplots()\n",
    "forest_importances.plot.bar(yerr=std,ax=ax)\n",
    "ax.set_title(\"Feature Importances Using MDI\")\n",
    "ax.set_ylabel('Mean decrease in impurity')\n",
    "fig.tight_layout()\n",
    "plt.show()"
   ]
  },
  {
   "cell_type": "markdown",
   "id": "cb1d9088-4943-4e89-a1a9-e88f28868a84",
   "metadata": {},
   "source": [
    "DICE (Diverse Counterfactual Explanations)"
   ]
  },
  {
   "cell_type": "code",
   "execution_count": null,
   "id": "12043350-9b31-4509-9dd7-b0f4c9602cc8",
   "metadata": {},
   "outputs": [],
   "source": [
    "train_df1,test_df1=train_test_split(df,test_size=0.30)\n",
    "print(train_df1)\n",
    "train_df=train_df1.drop('target',axis=1)\n",
    "test_df=test_df1.drop('target',axis=1)\n",
    "import dice_ml\n",
    "d=dice_ml.Data(dataframe=train_df1, continuous_features=['age','trestbps','chol','thalach','oldpeak','slope','ca','thal'], outcome_name='target')"
   ]
  },
  {
   "cell_type": "code",
   "execution_count": null,
   "id": "46aae463-b451-47e7-996b-e4cb254ce7af",
   "metadata": {},
   "outputs": [],
   "source": [
    "m=dice_ml.Model(model=dt,backend='sklearn')\n",
    "exp=dice_ml.Dice(d,m,method='random')"
   ]
  },
  {
   "cell_type": "code",
   "execution_count": null,
   "id": "0b2966b1-9db4-4f96-b9b2-be81fb43c2d9",
   "metadata": {},
   "outputs": [],
   "source": [
    "e1=exp.generate_counterfactuals(test_df[0:1],total_CFs=2,desired_class='opposite')\n",
    "e1.visualize_as_dataframe(show_only_changes=True)"
   ]
  },
  {
   "cell_type": "code",
   "execution_count": null,
   "id": "4b1ae7d1-91c0-4147-bf50-6e8e53ea760f",
   "metadata": {},
   "outputs": [],
   "source": [
    "m2=dice_ml.Model(model=rf,backend='sklearn')\n",
    "exp2=dice_ml.Dice(d,m,method='random')"
   ]
  },
  {
   "cell_type": "code",
   "execution_count": null,
   "id": "a87e55e7-66df-47f4-b8b4-970259178cb3",
   "metadata": {},
   "outputs": [],
   "source": [
    "e2=exp2.generate_counterfactuals(test_df[0:1],total_CFs=2,desired_class='opposite')\n",
    "e2.visualize_as_dataframe(show_only_changes=True)"
   ]
  },
  {
   "cell_type": "code",
   "execution_count": null,
   "id": "37272373-db17-4493-961e-e65990d642c4",
   "metadata": {},
   "outputs": [],
   "source": [
    "e3=exp2.generate_counterfactuals(test_df[0:1],total_CFs=10,desired_class='opposite', permitted_range={'chol':[100,300]})\n",
    "e3.visualize_as_dataframe(show_only_changes=True)"
   ]
  },
  {
   "cell_type": "code",
   "execution_count": null,
   "id": "b76a259f-2a20-4f9c-8445-a1f18e692c2b",
   "metadata": {},
   "outputs": [],
   "source": [
    "query_instances=test_df[0:10]\n",
    "imp=exp2.local_feature_importance(query_instances,total_CFs=10)\n",
    "print(imp.summary_importance)"
   ]
  },
  {
   "cell_type": "code",
   "execution_count": null,
   "id": "cafd52c1-32aa-415a-9589-799d750951dd",
   "metadata": {},
   "outputs": [],
   "source": [
    "query_instances=test_df[0:20]\n",
    "imp=exp2.global_feature_importance(query_instances,total_CFs=10)\n",
    "print(imp.summary_importance)"
   ]
  },
  {
   "cell_type": "code",
   "execution_count": null,
   "id": "c30ba29c-3a33-4b17-b73e-322f9505fa2f",
   "metadata": {},
   "outputs": [],
   "source": [
    "query_instances=test_df[0:20]\n",
    "imp=exp.global_feature_importance(query_instances,total_CFs=10)\n",
    "print(imp.summary_importance)"
   ]
  },
  {
   "cell_type": "code",
   "execution_count": null,
   "id": "a11d155d-4d4d-4ddd-8afd-45d9110de295",
   "metadata": {},
   "outputs": [],
   "source": [
    "query_instances=test_df[0:10]\n",
    "imp=exp.local_feature_importance(query_instances,total_CFs=10)\n",
    "print(imp.summary_importance)"
   ]
  },
  {
   "cell_type": "code",
   "execution_count": null,
   "id": "41c01e6c-61f0-43c8-9c4e-f9ffe5c20bb4",
   "metadata": {},
   "outputs": [],
   "source": []
  }
 ],
 "metadata": {
  "kernelspec": {
   "display_name": "Python 3 (Spyder)",
   "language": "python3",
   "name": "python3"
  },
  "language_info": {
   "codemirror_mode": {
    "name": "ipython",
    "version": 3
   },
   "file_extension": ".py",
   "mimetype": "text/x-python",
   "name": "python",
   "nbconvert_exporter": "python",
   "pygments_lexer": "ipython3",
   "version": "3.10.13"
  }
 },
 "nbformat": 4,
 "nbformat_minor": 5
}
